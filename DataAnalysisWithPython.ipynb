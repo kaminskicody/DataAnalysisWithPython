{
 "cells": [
  {
   "cell_type": "markdown",
   "id": "e179b150",
   "metadata": {},
   "source": [
    "#### Cody Kaminski\n",
    "#### 10/19/2022\n",
    "#### Project 2: Data Analysis with Python\n",
    "#### The purpose of this project is to make conclusions based on analyzations of data"
   ]
  },
  {
   "cell_type": "markdown",
   "id": "50737ae8",
   "metadata": {},
   "source": [
    "#### Importing pandas library"
   ]
  },
  {
   "cell_type": "code",
   "execution_count": 344,
   "id": "1d13012c",
   "metadata": {},
   "outputs": [],
   "source": [
    "import pandas as pd"
   ]
  },
  {
   "cell_type": "markdown",
   "id": "e147d1d8",
   "metadata": {},
   "source": [
    "#### Reading and saving csv files to variables"
   ]
  },
  {
   "cell_type": "code",
   "execution_count": 345,
   "id": "cd1d95df",
   "metadata": {},
   "outputs": [],
   "source": [
    "CES_FALL_2020_0 = pd.read_csv(\"Computing Entry Survey Fall 2020.csv\")\n",
    "CLCES_FALL_2020_0 = pd.read_csv(\"Computing Literacy Course Entry Survey Fall 2020.csv\")\n",
    "CES_FALL_2021_0 = pd.read_csv(\"Computing Entry Survey Fall 2021.csv\")\n",
    "CLCES_FALL_2021_0 = pd.read_csv(\"Computing Literacy Course Entry Survey Fall 2021.csv\")"
   ]
  },
  {
   "cell_type": "markdown",
   "id": "d95c039d",
   "metadata": {},
   "source": [
    "#### Copying original dataframe to new variable"
   ]
  },
  {
   "cell_type": "code",
   "execution_count": 346,
   "id": "e9aa349d",
   "metadata": {},
   "outputs": [],
   "source": [
    "CES_FALL_2020_1 = CES_FALL_2020_0\n",
    "CLCES_FALL_2020_1 = CLCES_FALL_2020_0\n",
    "CES_FALL_2021_1 = CES_FALL_2021_0\n",
    "CLCES_FALL_2021_1 = CLCES_FALL_2021_0\n",
    "\n",
    "dataframes = [CES_FALL_2020_1, CLCES_FALL_2020_1, CES_FALL_2021_1, CLCES_FALL_2021_1]"
   ]
  },
  {
   "cell_type": "markdown",
   "id": "e5c1313b",
   "metadata": {},
   "source": [
    "#### Removing unnecessary columns"
   ]
  },
  {
   "cell_type": "code",
   "execution_count": 347,
   "id": "c73a7571",
   "metadata": {},
   "outputs": [],
   "source": [
    "CES_FALL_2020_1.drop(CES_FALL_2020_1.columns[[0, *range(16, 62, 1), *range(63, 74, 1), 75]], axis = 1, inplace = True)\n",
    "\n",
    "CLCES_FALL_2020_1.drop(CLCES_FALL_2020_1.columns[[0, *range(2, 20, 1), *range(21, 32, 1), *range(33, 39, 1), 40]], axis = 1, inplace = True)\n",
    "\n",
    "CES_FALL_2021_1.drop(CES_FALL_2021_1.index[245:247], inplace = True)\n",
    "CES_FALL_2021_1.drop(CES_FALL_2021_1.columns[[0, *range(16, 62, 1), *range(63, 85, 1), 86]], axis = 1, inplace = True)\n",
    "\n",
    "CLCES_FALL_2021_1.drop(CLCES_FALL_2021_1.index[122:126], inplace = True)\n",
    "CLCES_FALL_2021_1.drop(CLCES_FALL_2021_1.columns[[*range(0, 6, 1), *range(7, 35, 1), *range(46, 57, 1), *range(58, 64, 1), *range(65, 74, 1), *range(77, 79, 1)]], axis = 1, inplace = True)"
   ]
  },
  {
   "cell_type": "markdown",
   "id": "0a38ce9d",
   "metadata": {},
   "source": [
    "#### Renaming column headers"
   ]
  },
  {
   "cell_type": "code",
   "execution_count": 348,
   "id": "a4e9bb99",
   "metadata": {},
   "outputs": [],
   "source": [
    "for dataframe in dataframes:\n",
    "    dataframe.columns = [column[column.find(\"[\")+1:column.find(\"]\")].replace(\" \", \"_\").lower() if \"[\" and \"]\" in column else column for column in dataframe]\n",
    "    dataframe.columns = [\"course\" if \"Which course\" in column else column for column in dataframe]\n",
    "    dataframe.columns = [\"program\" if \"What degree\" in column else column for column in dataframe]\n",
    "    dataframe.columns = [\"interest\" if \"interested\" in column else column for column in dataframe]\n",
    "    \n",
    "    dataframe.rename(columns = {\"Gender\": \"gender\", \"Race/ethnicity\": \"race\", \"Age \": \"age\"}, inplace = True)\n",
    "    \n",
    "CLCES_FALL_2020_1.columns = [\"hear\" if \"hear\" in column else column for column in CLCES_FALL_2020_1]"
   ]
  },
  {
   "cell_type": "markdown",
   "id": "73df4abc",
   "metadata": {},
   "source": [
    "#### Cleaning data in columns"
   ]
  },
  {
   "cell_type": "code",
   "execution_count": 349,
   "id": "e67793e9",
   "metadata": {},
   "outputs": [],
   "source": [
    "for dataframe in dataframes:\n",
    "    for key, value in dataframe.course.iteritems():\n",
    "        dataframe.at[key, \"course\"] = value[0:7]\n",
    "    \n",
    "    for key, value in dataframe.program.iteritems():\n",
    "        if \",\" in list(value):\n",
    "            dataframe.at[key, \"program\"] = value[:value.index(\",\")]\n",
    "        \n",
    "    for key, value in dataframe.race.iteritems():\n",
    "        if \";\" in list(value):\n",
    "            dataframe.at[key, \"race\"] = \"Multi-Racial\"\n",
    "            \n",
    "    dataframe.race = dataframe.race.str.replace(\"Hispanic or Latino\", \"Hispanic\")\n",
    "    dataframe.race = dataframe.race.str.replace(\"White/Caucasian\", \"White\")\n",
    "    dataframe.race = dataframe.race.str.replace(\"Black/African American\", \"African American\")\n",
    "    dataframe.race = dataframe.race.str.replace(\"American Indian/Native American/Alaska Native\", \"Native American\")"
   ]
  },
  {
   "cell_type": "markdown",
   "id": "876cedcb",
   "metadata": {},
   "source": [
    "#### Which majors are most likely to take more information technologies courses?"
   ]
  },
  {
   "cell_type": "code",
   "execution_count": 350,
   "id": "f2157274",
   "metadata": {},
   "outputs": [
    {
     "name": "stdout",
     "output_type": "stream",
     "text": [
      "program\n",
      "Architecture and Design                             4.000000\n",
      "Associate Degree in Mathematics                     3.000000\n",
      "Associate's Degree                                  3.000000\n",
      "Business                                            1.000000\n",
      "Business Administration                             3.300000\n",
      "Business Administration                             3.000000\n",
      "CIS Game Development Option                              NaN\n",
      "Challenger Program                                       NaN\n",
      "Chemistry                                           5.000000\n",
      "Computer Science                                         NaN\n",
      "Digital Media Technology                                 NaN\n",
      "EDAM                                                3.500000\n",
      "Elec Engineering Tech                               5.000000\n",
      "Electrical Engineering Technology                   3.000000\n",
      "Electronics Engineering Technology                  4.500000\n",
      "Engineering                                         3.000000\n",
      "Engineering Science                                 5.000000\n",
      "Engineering Science: Biomedical Equipment Option    5.000000\n",
      "Information Security Certificate of Achievement          NaN\n",
      "Information Technology                                   NaN\n",
      "Information Technology                              4.000000\n",
      "Liberal Arts                                        1.000000\n",
      "MET                                                 3.000000\n",
      "Math-Education Specialization                       3.000000\n",
      "Mathematics                                         3.000000\n",
      "Mathematics Associate of Science                    4.000000\n",
      "Mathematics Option                                  4.000000\n",
      "Mechanical  Engineering                             5.000000\n",
      "Mechanical Engineer                                 3.000000\n",
      "Mechanical Engineer Tech                            3.000000\n",
      "Mechanical Engineering                              4.000000\n",
      "Mechanical Engineering & Technology                 4.000000\n",
      "Mechanical Engineering Tech                         3.000000\n",
      "Mechanical Engineering Technology                   2.777778\n",
      "Mechanical Engineering Technology                   3.500000\n",
      "Mechanical Engineering Technology                   4.000000\n",
      "Mechanical/Electrical Engineer                      3.000000\n",
      "Non Degree seeking                                  3.777778\n",
      "Nursing                                             1.000000\n",
      "ShareTime CSIP Program                                   NaN\n",
      "Technical Studies                                        NaN\n",
      "Technology Engineering                              4.000000\n",
      "Undecided                                           3.800000\n",
      "Web Development Certificate of Achievement               NaN\n",
      "business admin                                      2.000000\n",
      "electrical engineering                              3.000000\n",
      "liberal Arts Major                                  1.000000\n",
      "liberal arts major                                  2.000000\n",
      "mechanical engineering                              4.000000\n",
      "mechanical engineering tech                         3.000000\n",
      "minoring in computer science                        3.000000\n",
      "share time (EDAM)                                   4.000000\n",
      "Name: interest, dtype: float64\n",
      "program\n",
      "30 College credit program                             3.000000\n",
      "Biology                                               3.250000\n",
      "Broadcasting Arts and Technology                      3.000000\n",
      "Business Administration                               2.000000\n",
      "COMPUTER AIDED DESIGNING AND DRAFTING                 5.000000\n",
      "Child and Family Studies                              1.875000\n",
      "Communication                                         2.714286\n",
      "Communication;Radiography                             3.000000\n",
      "Comp Aided Drafting Tech                              2.000000\n",
      "Computer Science                                      5.000000\n",
      "Criminal Justice                                      2.500000\n",
      "Culinary Arts and Science                             4.000000\n",
      "Culinary arts and science                             2.000000\n",
      "Early Childhood Education                             2.500000\n",
      "Early Childhood Education;Child and Family Studies    4.000000\n",
      "Exercise Science                                      2.363636\n",
      "Fine Arts Fashion Merchandising                       2.000000\n",
      "Hospitality                                           1.000000\n",
      "Hospitality                                           2.000000\n",
      "Hospitality Management                                3.000000\n",
      "Human Services                                        2.000000\n",
      "Human Services                                        3.000000\n",
      "Humanities                                            1.000000\n",
      "Humanities Social Sciences                            2.000000\n",
      "Journalism                                            2.500000\n",
      "Liberal Arts                                          2.222222\n",
      "Liberal Arts & Sciences                               3.000000\n",
      "Liberal Arts and Sciences                             2.500000\n",
      "Liberal arts                                          1.000000\n",
      "Math education                                        2.000000\n",
      "Mathematics                                           3.000000\n",
      "Mathematics and Financial                             4.000000\n",
      "Music Performance                                     3.000000\n",
      "Music Technology                                      2.714286\n",
      "Musical Theatre                                       2.000000\n",
      "Not in a degree program                               2.444444\n",
      "Nursing                                               1.850000\n",
      "Physical Education                                    1.000000\n",
      "Political Science                                     3.000000\n",
      "Psychology                                            2.000000\n",
      "Psychology                                            1.500000\n",
      "Public Health                                         3.166667\n",
      "Radiography                                           2.500000\n",
      "Radiography;Nursing                                   3.500000\n",
      "Thinking of Biology and Engineering.                  4.000000\n",
      "Visual Fine Arts                                      2.000000\n",
      "biology                                               4.000000\n",
      "fashion design                                        3.000000\n",
      "fire science and technology                           3.000000\n",
      "humanities                                            5.000000\n",
      "liberal arts                                          2.250000\n",
      "liberal arts/humanitites                              1.000000\n",
      "Name: interest, dtype: float64\n",
      "program\n",
      "Administrative Business                              5.000000\n",
      "Biology Environmental Track                          3.000000\n",
      "Business                                             2.000000\n",
      "Business                                             4.000000\n",
      "Business Admin                                       5.000000\n",
      "Business Administration                              3.750000\n",
      "Business Management                                  2.000000\n",
      "CCM Share time program                               5.000000\n",
      "CIS Game Development Option                               NaN\n",
      "Challenger Program                                        NaN\n",
      "Computer Science                                          NaN\n",
      "Data Analytics Certificate of Achievement                 NaN\n",
      "Digital Media Technology                                  NaN\n",
      "Dual Enrollment                                      4.000000\n",
      "EDAM Sharetime Program                               4.000000\n",
      "EDAM student                                         3.000000\n",
      "EDam Share time                                      3.000000\n",
      "Electrical Engineering                               3.000000\n",
      "Electronic Engineering                               5.000000\n",
      "Electronic engineering                               5.000000\n",
      "Electronics engineering technology                   4.000000\n",
      "Engineering Design and Advanced Manufacturing.       1.000000\n",
      "Graphic Design                                       3.500000\n",
      "Graphic Design                                       5.000000\n",
      "Graphics Design                                      3.000000\n",
      "Information Technology                                    NaN\n",
      "Liberal Arts Program                                 4.000000\n",
      "Mathematics                                          3.000000\n",
      "Mathematics and Science                              4.500000\n",
      "Mech Tech                                            2.000000\n",
      "Mechanical Engineering                               4.000000\n",
      "Mechanical Engineering                               4.000000\n",
      "Mechanical Engineering Technology                    4.000000\n",
      "Mechanical engineering and technology                2.000000\n",
      "Mechanical engineering technology                    3.000000\n",
      "Non Degree seeking                                   3.777778\n",
      "Radiography                                          5.000000\n",
      "ShareTime CSIP Program                                    NaN\n",
      "ShareTime EDAM                                       5.000000\n",
      "ShareTime EDAM Program                               5.000000\n",
      "Technical Studies                                         NaN\n",
      "Undecided                                            3.142857\n",
      "Visiting student                                     4.000000\n",
      "Web Development Certificate of Achievement                NaN\n",
      "electronic engineering                               5.000000\n",
      "libral arts                                          3.000000\n",
      "mechanical engineering                               2.000000\n",
      "mechanical engineering                               3.000000\n",
      "mechanical engineering technology                    3.000000\n",
      "mechanical technology major                          3.000000\n",
      "not enrolled in a degree program (votech infosec)    4.000000\n",
      "votech infosec                                       4.000000\n",
      "Name: interest, dtype: float64\n",
      "program\n",
      "Broadcast Journalism                2.000000\n",
      "Broadcasting Arts and Technology    3.000000\n",
      "Business Administration             4.500000\n",
      "Child and Family Studies            2.500000\n",
      "Communication                       2.333333\n",
      "Criminal Justice                    2.153846\n",
      "Early Childhood Education           2.000000\n",
      "Electronic Music                    1.000000\n",
      "Environmental Science               2.000000\n",
      "Exercise Science                    3.000000\n",
      "Fire Science Technology             4.000000\n",
      "Hospitality Mgmt                    3.000000\n",
      "Human Services                      2.000000\n",
      "Liberal Arts                        2.680000\n",
      "Mathmatics                          3.000000\n",
      "Music                               4.000000\n",
      "Music Technology                    3.000000\n",
      "Music performance                   3.000000\n",
      "Musical Theatre                     1.000000\n",
      "Not in a degree program             4.200000\n",
      "Nursing                             3.222222\n",
      "Public Administration               3.500000\n",
      "Public Health                       2.000000\n",
      "Radiography                         2.555556\n",
      "Sociology-Humanities                3.000000\n",
      "Teaching Mathematics                2.000000\n",
      "Theatre Technology                  2.000000\n",
      "Name: interest, dtype: float64\n"
     ]
    }
   ],
   "source": [
    "for dataframe in dataframes:\n",
    "    print(dataframe.groupby(\"program\")[\"interest\"].mean())"
   ]
  },
  {
   "cell_type": "markdown",
   "id": "4b4b4f26",
   "metadata": {},
   "source": [
    "#### Students in tech majors tend to have a higher interest on a scale from 1 to 5 in taking more information technologies courses."
   ]
  },
  {
   "cell_type": "markdown",
   "id": "d8d24abb",
   "metadata": {},
   "source": [
    "#### What ways are the most effective at enrolling students?"
   ]
  },
  {
   "cell_type": "code",
   "execution_count": 351,
   "id": "61861bcb",
   "metadata": {},
   "outputs": [
    {
     "name": "stdout",
     "output_type": "stream",
     "text": [
      "ccm_web_site: 205\n",
      "social_media: 99\n",
      "community_event: 106\n",
      "family_member_or_friend: 406\n",
      "current_ccm_student: 240\n",
      "ccm_alumni: 149\n",
      "high_school_teacher: 274\n",
      "high_school_counselor: 306\n",
      "in-app_advertisement: 18\n",
      "employer: 18\n",
      "billboard: 74\n",
      "television: 25\n",
      "radio: 15\n",
      "other: 69\n",
      "ccm_web_site: 64\n",
      "billboard: 19\n",
      "television: 2\n",
      "radio: 2\n",
      "social_media: 43\n",
      "community_event: 29\n",
      "family_member_or_friend: 95\n",
      "employer: 16\n",
      "current_student: 58\n",
      "alumni: 38\n",
      "high_school: 83\n"
     ]
    }
   ],
   "source": [
    "CES_WAYS = [\"ccm_web_site\", \"social_media\", \"community_event\", \"family_member_or_friend\", \"current_ccm_student\", \"ccm_alumni\", \"high_school_teacher\", \"high_school_counselor\", \"in-app_advertisement\", \"employer\", \"billboard\", \"television\", \"radio\", \"other\"]\n",
    "CLCES_WAYS = [\"ccm_web_site\", \"billboard\", \"television\", \"radio\", \"social_media\", \"community_event\", \"family_member_or_friend\", \"employer\", \"current_student\", \"alumni\", \"high_school\"]\n",
    "\n",
    "for WAY in CES_WAYS:\n",
    "    print(WAY+\": \"+str(len(CES_FALL_2020_1[CES_FALL_2020_1[WAY] == \"Yes\"])+len(CES_FALL_2021_1[CES_FALL_2021_1[WAY] == \"Yes\"])))\n",
    "    \n",
    "for WAY in CLCES_WAYS:\n",
    "    print(WAY+\": \"+str(len(CLCES_FALL_2021_1[CLCES_FALL_2021_1[WAY] == \"Yes\"])))"
   ]
  },
  {
   "cell_type": "markdown",
   "id": "f7a2566a",
   "metadata": {},
   "source": [
    "#### Family members or friends are the most effective way of enrolling students."
   ]
  },
  {
   "cell_type": "markdown",
   "id": "c22564f6",
   "metadata": {},
   "source": [
    "#### What is the breakdown by gender of these courses?"
   ]
  },
  {
   "cell_type": "code",
   "execution_count": 352,
   "id": "cd3d4806",
   "metadata": {},
   "outputs": [
    {
     "name": "stdout",
     "output_type": "stream",
     "text": [
      "Man                  219\n",
      "Woman                 66\n",
      "Prefer not to say     10\n",
      "Non-binary             2\n",
      "I do not identify      1\n",
      "Name: gender, dtype: int64\n",
      "Woman                123\n",
      "Man                   73\n",
      "Prefer not to say      4\n",
      "I do not identify      1\n",
      "Name: gender, dtype: int64\n",
      "Man                  197\n",
      "Woman                 42\n",
      "Prefer not to say      5\n",
      "I do not identify      1\n",
      "Name: gender, dtype: int64\n",
      "Woman                76\n",
      "Man                  42\n",
      "Non-binary            2\n",
      "Prefer not to say     2\n",
      "Name: gender, dtype: int64\n"
     ]
    }
   ],
   "source": [
    "for dataframe in dataframes:\n",
    "    print(dataframe.gender.value_counts())"
   ]
  },
  {
   "cell_type": "markdown",
   "id": "75dc62b6",
   "metadata": {},
   "source": [
    "#### There are more men in the computing courses but there are more women in the computing literacy courses."
   ]
  },
  {
   "cell_type": "markdown",
   "id": "a63320cb",
   "metadata": {},
   "source": [
    "#### What is the breakdown by age group of these courses?"
   ]
  },
  {
   "cell_type": "code",
   "execution_count": 353,
   "id": "d72940ca",
   "metadata": {},
   "outputs": [
    {
     "name": "stdout",
     "output_type": "stream",
     "text": [
      "18 and younger    101\n",
      "19-20              88\n",
      "21-24              53\n",
      "25-34              43\n",
      "35-64              12\n",
      "65+                 1\n",
      "Name: age, dtype: int64\n",
      "19-20             94\n",
      "21-24             49\n",
      "18 and younger    26\n",
      "25-34             22\n",
      "35-64             10\n",
      "65+                1\n",
      "Name: age, dtype: int64\n",
      "18 and younger    101\n",
      "19-20              90\n",
      "21-24              25\n",
      "25-34              15\n",
      "35-64              14\n",
      "Name: age, dtype: int64\n",
      "19-20             53\n",
      "21-24             21\n",
      "25-34             18\n",
      "18 and younger    17\n",
      "35-64             11\n",
      "65+                2\n",
      "Name: age, dtype: int64\n"
     ]
    }
   ],
   "source": [
    "for dataframe in dataframes:\n",
    "    print(dataframe.age.value_counts())"
   ]
  },
  {
   "cell_type": "code",
   "execution_count": null,
   "id": "ba415b2c",
   "metadata": {},
   "outputs": [],
   "source": []
  },
  {
   "cell_type": "markdown",
   "id": "08db0554",
   "metadata": {},
   "source": [
    "#### There are more students 18 and younger in the computing courses but there are more students 19-20 in the computing literacy courses."
   ]
  }
 ],
 "metadata": {
  "kernelspec": {
   "display_name": "Python 3 (ipykernel)",
   "language": "python",
   "name": "python3"
  },
  "language_info": {
   "codemirror_mode": {
    "name": "ipython",
    "version": 3
   },
   "file_extension": ".py",
   "mimetype": "text/x-python",
   "name": "python",
   "nbconvert_exporter": "python",
   "pygments_lexer": "ipython3",
   "version": "3.9.12"
  }
 },
 "nbformat": 4,
 "nbformat_minor": 5
}
